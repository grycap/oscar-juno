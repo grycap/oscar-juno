{
 "cells": [
  {
   "cell_type": "markdown",
   "id": "08b1f30b-dcc1-4001-b1a0-00f382228560",
   "metadata": {},
   "source": [
    "# ✨ Welcome to the OSCAR from a Jupyter Notebook Usage Tutorial 🚀\n",
    "\n",
    "In this documentation, we will step-by-step set up our environment and provide simple example use cases to help you understand the basics of working with OSCAR clusters from a Jupyter Notebook. 🖥️📡   \n",
    "\n",
    "This tutorial will focus on:\n",
    "- How to set up the environment of the Jupyter Notebook\n",
    "- How to define a service\n",
    "- How to create a service in OSCAR\n",
    "- How to call synchronous services\n",
    "- How to call asynchronous services\n",
    "- How to upload and download files from the service's bucket\n",
    "- How to delete services\n",
    "\n",
    "Let's get started! 🚀💡  \n"
   ]
  },
  {
   "cell_type": "markdown",
   "id": "924b73be",
   "metadata": {
    "tags": []
   },
   "source": [
    "## First, set up the environment\n",
    "\n",
    "Open the terminal and execute `sudo su` (if you are not already a root user) and `./setupscript.sh`. This script will configure the OpenID client and initialize an authentication process in which you will obtain a device code authentication that you need to insert on the EGI authentication portal. \n",
    "\n",
    "Follow the instructions:\n",
    "- Introduce the code in this webside https://aai.egi.eu/device.\n",
    "- Return to the terminal and write your password twice.\n",
    "\n",
    "The short name for the authenticated user by default is \"oscar-egi\"."
   ]
  },
  {
   "cell_type": "markdown",
   "metadata": {},
   "source": [
    "## 🛠️ Service Definition  \n",
    "\n",
    "To create a service on the cluster, we need to define it's configuration using a **YAML** file in **FDL** format.  \n",
    "\n",
    "We also need:  \n",
    "📌 A **Docker image** that includes the AI model or other functionality and contains all required libraries and data to perform its execution. 🐳  \n",
    "📌 A **shell-script** to be executed inside the container created out of the Docker image for each service invocation. 📜  \n",
    "\n",
    "📖 Learn more about **FDL** in the [OSCAR documentation](https://docs.oscar.grycap.net/fdl/).  \n",
    "🎨 For an easier graphical configuration, check out the **[FDL Composer](https://docs.oscar.grycap.net/fdl-composer/)**.    "
   ]
  },
  {
   "cell_type": "markdown",
   "id": "ad510f7c",
   "metadata": {},
   "source": [
    "\n",
    "Next, we will provide guidance for two basic use cases:  \n",
    "\n",
    "✔️ **Synchronous Service (Cowsay 🐄💬)** ⏳  \n",
    "   - Receives a text input 📝  \n",
    "   - Returns text output 📤  \n",
    "\n",
    "✔️ **Asynchronous Service (Plant Classification🌿)** ⏳🔄  \n",
    "   - Triggers when a file is saved on the input storage 📂  \n",
    "   - Processes it and sends the output to the same or another storage 📬 \n",
    "\n",
    "**_NOTE:_** You can find more service examples in the [examples](https://github.com/grycap/oscar/tree/v3.3.3/examples) section on GitHub. "
   ]
  },
  {
   "cell_type": "markdown",
   "id": "b5b16407-5639-472e-a7a3-c3b8c0d99545",
   "metadata": {},
   "source": [
    "### 🐮 Cowsay  \n",
    "\n",
    "A **synchronous** service that receives an input in **JSON** and returns a text response:\n",
    "\n",
    "📥 **INPUT:** \n",
    "```json\n",
    "    {\"message\": \"Hi there\"}\n",
    "```\n",
    "📤 **OUTPUT:** \n",
    "```\n",
    "     __________\n",
    "    < Hi there >\n",
    "     ----------\n",
    "            \\   ^__^\n",
    "             \\  (oo)\\_______\n",
    "                (__)\\       )\\/\\\n",
    "                    ||----w |\n",
    "                    ||     ||\n",
    "\n",
    "```"
   ]
  },
  {
   "cell_type": "markdown",
   "id": "61306d90-d879-44d0-9954-bb1a24c57a2b",
   "metadata": {},
   "source": [
    "#### 📜 FDL Definition  \n",
    "\n",
    "To define a **basic FDL configuration file**, we need to specify:  \n",
    "\n",
    "📌 **Service Name** → The unique name of the service. 🏷️  \n",
    "📌 **CPU Cores (`cpu`)** → The number of cores required for execution. ⚡  \n",
    "📌 **Memory (`memory`)** → The amount of RAM needed (in **Mi** or **Gi**). 💾  \n",
    "📌 **Docker Image (`image`)** → The container image essential for the service. 🐳  \n",
    "📌 **Execution Script (`script`)** → The script that will run inside the instance. 📜  \n",
    "\n",
    "🔹 Aditionaly we set the log level to **critical** to avoid supervisor logs in response."
   ]
  },
  {
   "cell_type": "raw",
   "id": "8bb8ddaa-5abd-49d9-9827-2a54be88f221",
   "metadata": {},
   "source": [
    "functions:\n",
    "  oscar:\n",
    "  - cluster-id:\n",
    "      name: cowsay\n",
    "      cpu: '1.0'\n",
    "      memory: 1Gi\n",
    "      image: ghcr.io/grycap/cowsay # Docker image\n",
    "      script: script_cowsay.sh     # Script that will be executed in the service\n",
    "      log_level: CRITICAL          # To avoid supervisor logs in response"
   ]
  },
  {
   "cell_type": "markdown",
   "id": "00c62b62-1b76-4332-9041-650f3d232ccd",
   "metadata": {
    "tags": []
   },
   "source": [
    "### 🌱 Plant Classification  \n",
    "\n",
    "An **asynchronous** service that automatically detects and classifies plants from images. It receives an image and returns it after processing.\n",
    "\n",
    "📥 **INPUT** → Stored in **MinIO**:\n",
    "\n",
    "![image](img/plant-input.jpg)  \n",
    "\n",
    "📤 **OUTPUT** → Saved in **MinIO** or another storage:\n",
    "\n",
    "![image](img/plant-output.jpg)   "
   ]
  },
  {
   "cell_type": "markdown",
   "id": "4036e541",
   "metadata": {},
   "source": [
    "#### 📜 FDL Definition  \n",
    "\n",
    "Since this service is **asynchronous**, we need to specify:\n",
    "\n",
    "📌 **Input Storage (`input`)** 📂 → Triggers the execution  \n",
    "📌 **Output Storage (`output`)** 📂 → Stores the processed results  \n",
    "\n",
    "🔹 We **do not** set the log level to **critical** because we won’t receive the response directly.\n"
   ]
  },
  {
   "cell_type": "raw",
   "id": "13578269-5ea7-4b6a-8b44-c914b1933412",
   "metadata": {},
   "source": [
    "functions:\n",
    "  oscar:\n",
    "  - cluster-id:\n",
    "      name: plant-classification-async-test\n",
    "      memory: 1Gi\n",
    "      cpu: '1.0'\n",
    "      image: grycap/oscar-theano-plants\n",
    "      script: script_plant_async.sh\n",
    "      input:\n",
    "      - storage_provider: minio.default         # Storage provider, can be only MinIO\n",
    "        path: plant-classification-async/input  # Bucket and input folder\n",
    "      output:\n",
    "      - storage_provider: minio.default         # Storage provider\n",
    "        path: plant-classification-async/output # Bucket and output folder"
   ]
  },
  {
   "cell_type": "markdown",
   "id": "232f31a8-15ee-49c0-83fc-88feefcf995a",
   "metadata": {},
   "source": [
    "## ⚙️ Service Creation  \n",
    "\n",
    "After setting up the environment and defining our services, we can now **deploy** them on our **OSCAR cluster**. 🚀  "
   ]
  },
  {
   "cell_type": "markdown",
   "id": "7b4be353-8562-4b3b-8870-3e0e4471f666",
   "metadata": {},
   "source": [
    "### 📚 Import Libraries  \n",
    "\n",
    "To interact with **OSCAR** from a **Jupyter Notebook**, we will use the **OSCAR Python client library**. \n",
    "\n",
    "📖 Learn more about it on:  \n",
    "🔹 [GitHub](https://github.com/grycap/oscar_python) 🛠️  \n",
    "🔹 [PyPi](https://pypi.org/project/oscar-python/) 📦  \n",
    "\n",
    "📌 Check the **OSCAR [OpenAPI documentation](https://docs.oscar.grycap.net/api/)** to understand the structure of the returned data. \n",
    "\n",
    "**_NOTE:_** This tutorial uses **version 1.2.1** of the Python library. "
   ]
  },
  {
   "cell_type": "code",
   "execution_count": 1,
   "id": "31e6925d-b065-47ba-b501-9d533445e8ec",
   "metadata": {
    "tags": []
   },
   "outputs": [],
   "source": [
    "from oscar_python.client import Client\n",
    "import json\n",
    "import os"
   ]
  },
  {
   "cell_type": "markdown",
   "id": "20f48fdb-7c22-4411-891a-a00c6b2e4437",
   "metadata": {},
   "source": [
    "### 🔑 Create the Client with Credentials  \n",
    "\n",
    "To interact with the **OSCAR cluster**, we must create a client instance and provide:  \n",
    "\n",
    "🔹 **Cluster Identification Name (`cluster_id`)** → Used in the service configuration file to identify the cluster.  \n",
    "🔹 **OSCAR Cluster Endpoint (`endpoint`)** → The environment variable is set to the current cluster where the notebook is created.  \n",
    "🔹 **User Identification Tokens (`shortname`)** → Configured during environment setup with the default short name **\"oscar-egi\"**. \n"
   ]
  },
  {
   "cell_type": "code",
   "execution_count": 2,
   "id": "83499f80-67a2-48ef-b45c-4ff18f6f7d0e",
   "metadata": {
    "tags": []
   },
   "outputs": [],
   "source": [
    "options_oidc_auth = {'cluster_id': 'cluster-id',\n",
    "                     'endpoint': os.environ[\"OSCAR_ENDPOINT\"],\n",
    "                     'shortname': 'oscar-egi',\n",
    "                     'ssl': 'True'}\n",
    "\n",
    "client = Client(options=options_oidc_auth)"
   ]
  },
  {
   "cell_type": "markdown",
   "id": "ba0350d2-c1c3-4156-92d6-a2f39ddfd91f",
   "metadata": {
    "tags": []
   },
   "source": [
    "### 🚀 Create Services  \n",
    "\n",
    "To deploy services in the cluster, simply call the `create_service()` function and provide **service configuration file**:  \n",
    "\n",
    "```python\n",
    "    client.create_service(\"service_config.yaml\")\n",
    "```"
   ]
  },
  {
   "cell_type": "code",
   "execution_count": 3,
   "id": "c77d67a4-7ca4-4f40-896c-f660ecf031b3",
   "metadata": {},
   "outputs": [
    {
     "name": "stdout",
     "output_type": "stream",
     "text": [
      "Services created\n"
     ]
    }
   ],
   "source": [
    "try:\n",
    "    client.create_service(\"cowsay-sync.yaml\")\n",
    "    client.create_service(\"plant-async.yaml\")\n",
    "    print(\"Services created\")\n",
    "except Exception as err:\n",
    "    print(\"Failed with: \", err)"
   ]
  },
  {
   "cell_type": "markdown",
   "id": "793d9f1d-e995-4a55-8169-8fa5e3705e89",
   "metadata": {
    "tags": []
   },
   "source": [
    "#### 📋 Print the List of Available Services  \n",
    "\n",
    "To check which services are currently deployed in the cluster, use the following command:  \n",
    "\n",
    "```python\n",
    "    client.list_services()\n",
    "```\n",
    "🔹 This function returns an HTTP response containing a JSON list of available services."
   ]
  },
  {
   "cell_type": "code",
   "execution_count": 4,
   "id": "8e3d3dfe-7c64-4a8c-8e83-686c035acd0e",
   "metadata": {
    "tags": []
   },
   "outputs": [
    {
     "name": "stdout",
     "output_type": "stream",
     "text": [
      "Services:\n",
      "> cowsay\n",
      "> cowsay-sync-test\n",
      "> juno7e3b98\n",
      "> plant-classification-async-test\n",
      "> plants\n"
     ]
    }
   ],
   "source": [
    "try:\n",
    "    services = client.list_services()\n",
    "    print(\"Services:\")\n",
    "    if services.status_code == 200:\n",
    "        # Print the name of the services on the cluster\n",
    "        for value in services.json():\n",
    "            print(\"> \" + value[\"name\"])\n",
    "except Exception as err:\n",
    "    print(\"Failed with: \", err)"
   ]
  },
  {
   "cell_type": "markdown",
   "id": "a1f01f0e-cc4e-4a4e-b3d8-1a92801c50f7",
   "metadata": {},
   "source": [
    "---  \n",
    "\n",
    "🔹 You can also view the entire **JSON response** for more details (to improve readability, we format the output as a structured string)."
   ]
  },
  {
   "cell_type": "code",
   "execution_count": null,
   "id": "39fbbb9c-a6c6-4b38-a132-5fe5af366f09",
   "metadata": {
    "tags": []
   },
   "outputs": [],
   "source": [
    "try:\n",
    "    services = client.list_services()\n",
    "    if services.status_code == 200:\n",
    "        json_object = json.loads(services.text)\n",
    "        json_formatted_str = json.dumps(json_object, indent=2)\n",
    "        print(json_formatted_str)\n",
    "except Exception as err:\n",
    "    print(\"Failed with: \", err)"
   ]
  }
 ],
 "metadata": {
  "kernelspec": {
   "display_name": "Python 3 (ipykernel)",
   "language": "python",
   "name": "python3"
  },
  "language_info": {
   "codemirror_mode": {
    "name": "ipython",
    "version": 3
   },
   "file_extension": ".py",
   "mimetype": "text/x-python",
   "name": "python",
   "nbconvert_exporter": "python",
   "pygments_lexer": "ipython3",
   "version": "3.10.12"
  }
 },
 "nbformat": 4,
 "nbformat_minor": 5
}
