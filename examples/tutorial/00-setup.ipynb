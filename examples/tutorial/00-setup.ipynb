{
 "cells": [
  {
   "cell_type": "markdown",
   "id": "08b1f30b-dcc1-4001-b1a0-00f382228560",
   "metadata": {
    "tags": []
   },
   "source": [
    "# ✨ Welcome to the OSCAR Usage Tutorial from a Jupyter Notebook \n",
    "\n",
    "In this documentation, we will guide you step-by-step to set up our environment and provide simple example use cases to help you understand the basics of working with OSCAR clusters from a Jupyter Notebook.  \n",
    "\n",
    "This tutorial will focus on:\n",
    "- How to set up the environment of the Jupyter Notebook.\n",
    "- How to define an OSCAR service.\n",
    "- How to create the service in the OSCAR cluster.\n",
    "- How to call synchronous services.\n",
    "- How to call asynchronous services.\n",
    "- How to upload and download files from the service's bucket.\n",
    "- How to delete services.\n",
    "\n",
    "Let's get started! 🚀  \n"
   ]
  },
  {
   "cell_type": "markdown",
   "id": "924b73be",
   "metadata": {
    "jp-MarkdownHeadingCollapsed": true,
    "tags": []
   },
   "source": [
    "## 🔧 First, Set Up the Environment  \n",
    "\n",
    "### Method 1 (Divace authentication)\n",
    "\n",
    "To begin, open a terminal in Jupyter Notebook:  \n",
    "📌 **File → New → Terminal**  \n",
    "\n",
    "Then we need to execute `./setupscript.sh`. This script will configure the OpenID client and initialize an authentication process in which you will **obtain a device authentication code** that you need to insert on the EGI authentication portal. \n",
    "\n",
    "After obtaining the code:  \n",
    "1️⃣ Go to [EGI Divace Authentication Portal](https://aai.egi.eu/device).  \n",
    "2️⃣ Enter the provided code.  \n",
    "3️⃣ Return to the terminal and enter your password twice. \n",
    "\n",
    "**_NOTE $^1$:_** The short name for the authenticated user by default is \"oscar-egi\".  \n",
    "**_NOTE $^2$:_** If you can't find `./setupscript.sh`, execute `cd /`. \n",
    "\n",
    "### Mrthod 2 (Token)\n",
    "\n",
    "Open the [EGI token page](https://aai.egi.eu/token/) to obtain an access token to use in this tutorial.\n",
    "\n",
    "**_NOTE $^1$:_** The access token expires in 1 hour, so you will need to repeat the process."
   ]
  },
  {
   "cell_type": "markdown",
   "id": "ad510f7c",
   "metadata": {
    "tags": []
   },
   "source": [
    "## ⏭️ Next Steps  \n",
    "\n",
    "In the following steps of this tutorial, we will provide guidance for two basic use cases:\n",
    "\n",
    "✔️ **Synchronous Service**   \n",
    "   - Receives an input   \n",
    "   - Returns an output   \n",
    "\n",
    "✔️ **Asynchronous Service** \n",
    "   - Triggers when a file is uploaded on the input storage (MinIO) 📂  \n",
    "   - Processes it and stores the output to the same or another storage 📬 \n",
    "\n",
    "**_NOTE:_** You can find more service examples in the [examples](https://github.com/grycap/oscar/tree/master/examples) section on GitHub. "
   ]
  }
 ],
 "metadata": {
  "kernelspec": {
   "display_name": "Python 3 (ipykernel)",
   "language": "python",
   "name": "python3"
  },
  "language_info": {
   "codemirror_mode": {
    "name": "ipython",
    "version": 3
   },
   "file_extension": ".py",
   "mimetype": "text/x-python",
   "name": "python",
   "nbconvert_exporter": "python",
   "pygments_lexer": "ipython3",
   "version": "3.10.12"
  }
 },
 "nbformat": 4,
 "nbformat_minor": 5
}
