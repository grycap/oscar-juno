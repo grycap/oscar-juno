{
 "cells": [
  {
   "cell_type": "markdown",
   "id": "08b1f30b-dcc1-4001-b1a0-00f382228560",
   "metadata": {
    "tags": []
   },
   "source": [
    "# ✨ Welcome to the OSCAR Usage Tutorial from a Jupyter Notebook \n",
    "\n",
    "In this documentation, we will guide you step-by-step to set up our environment and provide simple example use cases to help you understand the basics of working with OSCAR clusters from a Jupyter Notebook.  \n",
    "\n",
    "This tutorial will focus on:\n",
    "- How to set up the environment of the Jupyter Notebook.\n",
    "- How to define an OSCAR service.\n",
    "- How to create the service in the OSCAR cluster.\n",
    "- How to call synchronous services.\n",
    "- How to call asynchronous services.\n",
    "- How to upload and download files from the service's bucket.\n",
    "- How to delete services.\n",
    "\n",
    "Let's get started! 🚀  \n"
   ]
  },
  {
   "cell_type": "markdown",
   "id": "924b73be",
   "metadata": {
    "tags": []
   },
   "source": [
    "## 🔧 First, Set Up the Environment  \n",
    "\n",
    "To access the cluster we need to be authorized, to achive that we use the tokens provided by the EGI identity provider.\n",
    "Open the [EGI token page](https://aai.egi.eu/token/) and obtain the refresh token$^1$ to use in this tutorial.\n",
    "\n",
    "> **_NOTE $^1$:_** The refres token expires in 1 year."
   ]
  },
  {
   "cell_type": "code",
   "execution_count": null,
   "id": "6c415df2-437c-402f-8f4e-28830344c0ff",
   "metadata": {
    "tags": []
   },
   "outputs": [],
   "source": [
    "import os\n",
    "os.environ['YOUR_TOKEN'] = ''"
   ]
  },
  {
   "cell_type": "code",
   "execution_count": 45,
   "id": "39617f2b-8071-4726-91b6-4d9c16c8cd52",
   "metadata": {
    "tags": []
   },
   "outputs": [],
   "source": [
    "!echo $YOUR_TOKEN > $JUPYTER_DIRECTORY/token"
   ]
  },
  {
   "cell_type": "markdown",
   "id": "ad510f7c",
   "metadata": {
    "tags": []
   },
   "source": [
    "## ⏭️ Next Steps  \n",
    "\n",
    "In the following steps of this tutorial, we will provide guidance for two basic use cases:\n",
    "\n",
    "✔️ **Synchronous Service**   \n",
    "   - Receives an input   \n",
    "   - Returns an output   \n",
    "\n",
    "✔️ **Asynchronous Service** \n",
    "   - Triggers when a file is uploaded on the input storage (MinIO) 📂  \n",
    "   - Processes it and stores the output to the same or another storage 📬 \n",
    "\n",
    "**_NOTE:_** You can find more service examples in the [examples](https://github.com/grycap/oscar/tree/master/examples) section on GitHub. "
   ]
  },
  {
   "cell_type": "code",
   "execution_count": null,
   "id": "433ede77-842c-48ea-967f-26788a5e101f",
   "metadata": {},
   "outputs": [],
   "source": []
  }
 ],
 "metadata": {
  "kernelspec": {
   "display_name": "Python 3 (ipykernel)",
   "language": "python",
   "name": "python3"
  },
  "language_info": {
   "codemirror_mode": {
    "name": "ipython",
    "version": 3
   },
   "file_extension": ".py",
   "mimetype": "text/x-python",
   "name": "python",
   "nbconvert_exporter": "python",
   "pygments_lexer": "ipython3",
   "version": "3.12.3"
  }
 },
 "nbformat": 4,
 "nbformat_minor": 5
}
