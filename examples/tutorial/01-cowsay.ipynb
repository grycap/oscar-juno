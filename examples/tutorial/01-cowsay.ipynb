{
 "cells": [
  {
   "cell_type": "markdown",
   "id": "bdb250a6-c53f-4ff6-b1d4-1c1d8a0bb4fe",
   "metadata": {
    "papermill": {
     "duration": 0.031604,
     "end_time": "2025-02-26T13:36:19.376959",
     "exception": false,
     "start_time": "2025-02-26T13:36:19.345355",
     "status": "completed"
    },
    "tags": []
   },
   "source": [
    "# 🐮 OSCAR from a Jupyter Notebook: Synchronous Service  \n",
    "\n",
    "In this example, we will demonstrate how to **call the Cowsay service** that we previously created in the **OSCAR cluster**. 🐄💬  \n",
    "\n",
    "🔹 This will showcase how to send a request and receive a **real-time response** from the service. "
   ]
  },
  {
   "cell_type": "markdown",
   "id": "5f046ab8-bbca-4a3a-b445-a3e427657d8c",
   "metadata": {
    "papermill": {
     "duration": 0.029128,
     "end_time": "2025-02-26T13:36:19.439339",
     "exception": false,
     "start_time": "2025-02-26T13:36:19.410211",
     "status": "completed"
    },
    "tags": []
   },
   "source": [
    "### 📚 Import Libraries  "
   ]
  },
  {
   "cell_type": "code",
   "execution_count": 1,
   "id": "29eeac5d-6c52-42d2-b7d9-a0676c2df730",
   "metadata": {
    "papermill": {
     "duration": 0.635351,
     "end_time": "2025-02-26T13:36:20.101944",
     "exception": false,
     "start_time": "2025-02-26T13:36:19.466593",
     "status": "completed"
    },
    "tags": []
   },
   "outputs": [],
   "source": [
    "from oscar_python.client import Client\n",
    "import os"
   ]
  },
  {
   "cell_type": "markdown",
   "id": "14e8d1f0-8fc4-4432-a893-5fae1ddb64ff",
   "metadata": {
    "papermill": {
     "duration": 0.053682,
     "end_time": "2025-02-26T13:36:20.186436",
     "exception": false,
     "start_time": "2025-02-26T13:36:20.132754",
     "status": "completed"
    },
    "tags": []
   },
   "source": [
    "### 🔑 Create the Client with Credentials  \n"
   ]
  },
  {
   "cell_type": "code",
   "execution_count": 2,
   "id": "9d5c27cc-e2da-405a-ae83-4c3ebfbb9a02",
   "metadata": {
    "papermill": {
     "duration": 0.048146,
     "end_time": "2025-02-26T13:36:20.262596",
     "exception": false,
     "start_time": "2025-02-26T13:36:20.214450",
     "status": "completed"
    },
    "tags": []
   },
   "outputs": [],
   "source": [
    "options_oidc_auth = {'cluster_id': 'cluster-id', \n",
    "                     'endpoint': os.environ[\"OSCAR_ENDPOINT\"],\n",
    "                     'shortname': 'oscar-egi',\n",
    "                     'ssl': 'True'}\n",
    "\n",
    "client = Client(options=options_oidc_auth)"
   ]
  },
  {
   "cell_type": "markdown",
   "id": "e41f6c2f-b8f4-4942-84d2-13307727e251",
   "metadata": {
    "papermill": {
     "duration": 0.026099,
     "end_time": "2025-02-26T13:36:20.325560",
     "exception": false,
     "start_time": "2025-02-26T13:36:20.299461",
     "status": "completed"
    },
    "tags": []
   },
   "source": [
    "### 🐄 Execute Cowsay (Synchronous)\n",
    "\n",
    "To interact with the **Cowsay service**, we need to send a message in **JSON format** using the `run_service()` function,  \n",
    "providing the **service name** and the **input message** as parameters. \n",
    "\n",
    "```python\n",
    "    client.run_service(\"service_name\", input=\"input\")\n",
    "```"
   ]
  },
  {
   "cell_type": "code",
   "execution_count": 3,
   "id": "57ce5391-4dbe-4301-b326-1123ee7e2dfd",
   "metadata": {
    "papermill": {
     "duration": 6.111448,
     "end_time": "2025-02-26T13:36:26.463171",
     "exception": false,
     "start_time": "2025-02-26T13:36:20.351723",
     "status": "completed"
    },
    "tags": []
   },
   "outputs": [
    {
     "name": "stdout",
     "output_type": "stream",
     "text": [
      " ______________________\n",
      "< Hi there. I am a cow >\n",
      " ----------------------\n",
      "        \\   ^__^\n",
      "         \\  (oo)\\_______\n",
      "            (__)\\       )\\/\\\n",
      "                ||----w |\n",
      "                ||     ||\n",
      "\n",
      "\n"
     ]
    }
   ],
   "source": [
    "try:\n",
    "    # Note that the INPUT for this service must be JSON\n",
    "    response = client.run_service(\"cowsay\",\n",
    "                                  input='{\"message\":\"Hi there. I am a cow\"}')\n",
    "    print(response.text)\n",
    "except Exception as err:\n",
    "    print(\"Failed with: \", err)\n"
   ]
  },
  {
   "cell_type": "markdown",
   "id": "747cbf45-1388-4c6a-bd4b-999800534a6a",
   "metadata": {},
   "source": [
    "---\n",
    "\n",
    "🔹 We also can specify a **timeout**🕒 to control the execution time and an **output file** in case we want to save the output.💾\n"
   ]
  },
  {
   "cell_type": "code",
   "execution_count": 4,
   "id": "05a46538-28e2-4b0b-b2c7-c0538f79c580",
   "metadata": {
    "tags": []
   },
   "outputs": [
    {
     "name": "stdout",
     "output_type": "stream",
     "text": [
      " ___________________________________\n",
      "/ Hi there. You also can find me in \\\n",
      "\\ output/cowsay-output.txt          /\n",
      " -----------------------------------\n",
      "        \\   ^__^\n",
      "         \\  (oo)\\_______\n",
      "            (__)\\       )\\/\\\n",
      "                ||----w |\n",
      "                ||     ||\n",
      "\n",
      "\n"
     ]
    }
   ],
   "source": [
    "try:\n",
    "    response = client.run_service(\"cowsay\",\n",
    "                                  input='{\"message\":\"Hi there. You also can find me in output/cowsay-output.txt\"}',\n",
    "                                  output=\"output/cowsay-output.txt\",\n",
    "                                  timeout=100)\n",
    "    print(response.text)\n",
    "except Exception as err:\n",
    "    print(\"Failed with: \", err)"
   ]
  }
 ],
 "metadata": {
  "kernelspec": {
   "display_name": "Python 3 (ipykernel)",
   "language": "python",
   "name": "python3"
  },
  "language_info": {
   "codemirror_mode": {
    "name": "ipython",
    "version": 3
   },
   "file_extension": ".py",
   "mimetype": "text/x-python",
   "name": "python",
   "nbconvert_exporter": "python",
   "pygments_lexer": "ipython3",
   "version": "3.10.12"
  },
  "papermill": {
   "default_parameters": {},
   "duration": 11.058048,
   "end_time": "2025-02-26T13:36:29.179097",
   "environment_variables": {},
   "exception": null,
   "input_path": "/mnt/home7e3b98/tutorials/oscar-tutorial/basic/01.-cowsay.ipynb",
   "output_path": "/mnt/home7e3b98/tutorials/oscar-tutorial/basic/01.-cowsay.ipynb",
   "parameters": {},
   "start_time": "2025-02-26T13:36:18.121049",
   "version": "2.6.0"
  }
 },
 "nbformat": 4,
 "nbformat_minor": 5
}
