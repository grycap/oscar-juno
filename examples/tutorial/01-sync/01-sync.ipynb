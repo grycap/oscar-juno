{
 "cells": [
  {
   "cell_type": "markdown",
   "id": "bdb250a6-c53f-4ff6-b1d4-1c1d8a0bb4fe",
   "metadata": {
    "papermill": {
     "duration": 0.031604,
     "end_time": "2025-02-26T13:36:19.376959",
     "exception": false,
     "start_time": "2025-02-26T13:36:19.345355",
     "status": "completed"
    },
    "tags": []
   },
   "source": [
    "# 🐮 OSCAR from a Jupyter Notebook: Synchronous Service  \n",
    "\n",
    "In this example, we will demonstrate how to create and **call a synchronous service**. \n",
    "\n",
    "This will showcase how to:  \n",
    "🔹 Define a synchronous service.  \n",
    "🔹 Create a synchronous service.   \n",
    "🔹 Send a request and receive a **real-time response** from the service. \n",
    "\n",
    "**_NOTE:_** To do this example, you must have completed the previous step of the tutorial of setting up the environment."
   ]
  },
  {
   "cell_type": "markdown",
   "id": "91bf08ad-a0cd-43e9-b391-7086a2e5d093",
   "metadata": {
    "tags": []
   },
   "source": [
    "## 🛠️ Service Definition  \n",
    "\n",
    "To create an [OSCAR service](https://docs.oscar.grycap.net/#concepts) on the cluster, we need to define its configuration using a **YAML** file in **FDL** format.  \n",
    "\n",
    "We also need:  \n",
    "📌  🐳 A **Docker image** that includes the application (e.g. a pre-trained AI model) and all the required libraries and data to perform its execution.  \n",
    "📌 📜 A **shell-script** to be executed inside the container created out of the Docker image for each service invocation.   \n",
    "\n",
    "📖 Learn more about **FDL** in the [OSCAR documentation](https://docs.oscar.grycap.net/fdl/).  \n",
    "🎨 For an easier graphical configuration, check out the **[FDL Composer](https://docs.oscar.grycap.net/fdl-composer/)**.    "
   ]
  },
  {
   "cell_type": "markdown",
   "id": "af3e9b39-61df-48ca-8ccf-4fe12e78b941",
   "metadata": {
    "tags": []
   },
   "source": [
    "### 🐮 Cowsay  \n",
    "\n",
    "For demonstration, we will use a simple **synchronous** service called Cowsay that receives an input in **JSON** and returns a text response 🐄💬:\n",
    "\n",
    "📥 **INPUT:** \n",
    "```json\n",
    "    {\"message\": \"Hi there\"}\n",
    "```\n",
    "📤 **OUTPUT:** \n",
    "```\n",
    "     __________\n",
    "    < Hi there >\n",
    "     ----------\n",
    "            \\   ^__^\n",
    "             \\  (oo)\\_______\n",
    "                (__)\\       )\\/\\\n",
    "                    ||----w |\n",
    "                    ||     ||\n",
    "\n",
    "```"
   ]
  },
  {
   "cell_type": "markdown",
   "id": "bd6ffa51-a90c-4f7f-9433-d45b58345ae4",
   "metadata": {},
   "source": [
    "#### 📜 FDL Definition  \n",
    "\n",
    "To define a **basic FDL configuration file**, we need to specify:  \n",
    "\n",
    "📌 **Service Name** → The unique name of the service. 🏷️  \n",
    "📌 **CPU Cores (`cpu`)** → The number of cores required for execution. ⚡  \n",
    "📌 **Memory (`memory`)** → The amount of RAM needed (in **Mi** or **Gi**). 💾  \n",
    "📌 **Docker Image (`image`)** → The container image essential for the service. 🐳  \n",
    "📌 **Execution Script (`script`)** → The script that will run inside the instance. 📜  \n",
    "\n",
    "🔹 Additionally, we set the log level to **critical** to avoid including execution logs in the response."
   ]
  },
  {
   "cell_type": "raw",
   "id": "54709981-cf7d-4a9f-bd13-f4d0c7a13f6a",
   "metadata": {},
   "source": [
    "functions:\n",
    "  oscar:\n",
    "  - cluster-id:\n",
    "      name: cowsay\n",
    "      cpu: '1.0'\n",
    "      memory: 1Gi\n",
    "      image: ghcr.io/grycap/cowsay # Docker image\n",
    "      script: script_cowsay.sh     # Script that will be executed in the service\n",
    "      log_level: CRITICAL          # To avoid supervisor logs in response"
   ]
  },
  {
   "cell_type": "markdown",
   "id": "f19ca960-cf5b-4025-a824-f8892f449901",
   "metadata": {
    "tags": []
   },
   "source": [
    "## ⚙️ Service Creation  \n",
    "\n",
    "After setting up the environment and defining our services, we can now **deploy** them on our **OSCAR cluster**. 🚀  "
   ]
  },
  {
   "cell_type": "markdown",
   "id": "c8c18abc-d3c9-4af7-a1c5-0c9ee17f65e6",
   "metadata": {},
   "source": [
    "### 📚 Import Libraries  \n",
    "\n",
    "To interact with **OSCAR** from a **Jupyter Notebook**, we will use the **[OSCAR Python client library](https://github.com/grycap/oscar_python)**. \n",
    "\n",
    "📖 Learn more about it on:  \n",
    "🔹 [GitHub](https://github.com/grycap/oscar_python) 🛠️  \n",
    "🔹 [PyPi](https://pypi.org/project/oscar-python/) 📦  \n",
    "\n",
    "📌 Check the **OSCAR [OpenAPI documentation](https://docs.oscar.grycap.net/api/)** to understand the structure of the returned data. \n",
    "\n",
    "**_NOTE:_** This tutorial uses **version 1.3.0** of the Python library. "
   ]
  },
  {
   "cell_type": "code",
   "execution_count": 23,
   "id": "29eeac5d-6c52-42d2-b7d9-a0676c2df730",
   "metadata": {
    "papermill": {
     "duration": 0.635351,
     "end_time": "2025-02-26T13:36:20.101944",
     "exception": false,
     "start_time": "2025-02-26T13:36:19.466593",
     "status": "completed"
    },
    "tags": []
   },
   "outputs": [],
   "source": [
    "from oscar_python.client import Client\n",
    "import os"
   ]
  },
  {
   "cell_type": "markdown",
   "id": "dbd587f9-d5a1-49fe-b326-4b5c5c4eb160",
   "metadata": {},
   "source": [
    "### 🔑 Create the Client with Credentials  \n",
    "\n",
    "To interact with the **OSCAR cluster**, we must create a client instance and provide:  \n",
    "\n",
    "🔹 **Cluster Identification Name (`cluster_id`)** → Used in the service configuration file to identify the cluster.  \n",
    "🔹 **OSCAR Cluster Endpoint (`endpoint`)** → The environment variable is set to the current cluster where the notebook is created.  \n",
    "🔹 **User Identification Tokens (`shortname`)** → Configured during environment setup with the default short name **\"oscar-egi\"**. \n"
   ]
  },
  {
   "cell_type": "markdown",
   "id": "8a294410-55df-4f3d-9bd0-bc17a71fe975",
   "metadata": {
    "tags": []
   },
   "source": [
    "#### Read the token"
   ]
  },
  {
   "cell_type": "code",
   "execution_count": null,
   "id": "c0403917-c921-4168-bd98-a931857e6f06",
   "metadata": {
    "tags": []
   },
   "outputs": [],
   "source": [
    "token_path = \"/token\"\n",
    "try:\n",
    "    with open(token_path) as f:\n",
    "        os.environ[\"YOUR_TOKEN\"] = f.read().strip()\n",
    "except Exception as err:\n",
    "    print(\"Failed with: \", err)"
   ]
  },
  {
   "cell_type": "markdown",
   "id": "d85cdeb3",
   "metadata": {},
   "source": [
    "#### Create client\n",
    "\n",
    "Depending on the type of token you choose to use (**refresh token** or **access token**), you will need to provide different arguments (`refresh_token` or `oidc_token`) when creating the client through which you interact with the OSCAR cluster."
   ]
  },
  {
   "cell_type": "markdown",
   "id": "1f769a00",
   "metadata": {},
   "source": [
    "\n",
    "- In this example, we are using an access token, so the token should be provided as the `oidc_token` argument when creating the client.  \n",
    "- If you use a **refresh token** instead, pass it as the `refresh_token` argument."
   ]
  },
  {
   "cell_type": "code",
   "execution_count": null,
   "id": "9d5c27cc-e2da-405a-ae83-4c3ebfbb9a02",
   "metadata": {
    "papermill": {
     "duration": 0.048146,
     "end_time": "2025-02-26T13:36:20.262596",
     "exception": false,
     "start_time": "2025-02-26T13:36:20.214450",
     "status": "completed"
    },
    "tags": []
   },
   "outputs": [],
   "source": [
    "oscar_options = {'cluster_id': 'cluster-id',\n",
    "                     'endpoint': \"http://oscar.oscar.svc.cluster.local:8080\",\n",
    "                     'oidc_token': os.environ[\"YOUR_TOKEN\"], # Change this argument to refresh_token if needed\n",
    "                     'ssl': 'True'}\n",
    "\n",
    "client = Client(options=oscar_options)"
   ]
  },
  {
   "cell_type": "markdown",
   "id": "e175852a-9cce-4f65-a330-dcb3db1806d9",
   "metadata": {},
   "source": [
    "### 📝 Declare Input Parameters  \n",
    "\n",
    "We declare the **input parameters** as variables to ensure consistency and avoid errors when using them multiple times.  \n",
    "Although in this example we will have only one reusable variable. 🔄"
   ]
  },
  {
   "cell_type": "code",
   "execution_count": 26,
   "id": "204015d4-8760-409d-9cdd-224887206dea",
   "metadata": {
    "tags": []
   },
   "outputs": [],
   "source": [
    "serviceName = \"cowsay-sync-test\""
   ]
  },
  {
   "cell_type": "markdown",
   "id": "8f62b6a1-492a-45e1-9301-50942f39eb83",
   "metadata": {
    "tags": []
   },
   "source": [
    "### 🚀 Create Services  \n",
    "\n",
    "To deploy services in the cluster, simply call the `create_service()` function and provide **service configuration file**:  \n",
    "\n",
    "```python\n",
    "    client.create_service(\"service_config.yaml\")\n",
    "```"
   ]
  },
  {
   "cell_type": "code",
   "execution_count": 27,
   "id": "019234f6-9011-4ae1-bed6-f070ceb435a0",
   "metadata": {},
   "outputs": [
    {
     "name": "stdout",
     "output_type": "stream",
     "text": [
      "Service created\n"
     ]
    }
   ],
   "source": [
    "try:\n",
    "    client.create_service(\"cowsay-sync.yaml\")\n",
    "    print(\"Service created\")\n",
    "except Exception as err:\n",
    "    print(\"Failed with: \", err)"
   ]
  },
  {
   "cell_type": "markdown",
   "id": "94c0d715-27b8-4eae-8cf5-1e44c61dad77",
   "metadata": {
    "tags": []
   },
   "source": [
    "#### 📋 Print the List of Available Services  \n",
    "\n",
    "To check which services are currently deployed in the cluster, use the following command:  \n",
    "\n",
    "```python\n",
    "    client.list_services()\n",
    "```\n",
    "🔹 This function returns an HTTP response containing a JSON list of available services."
   ]
  },
  {
   "cell_type": "code",
   "execution_count": 28,
   "id": "b62e2907-1052-40d6-84ff-f3c2f8728e74",
   "metadata": {
    "tags": []
   },
   "outputs": [
    {
     "name": "stdout",
     "output_type": "stream",
     "text": [
      "Services:\n",
      "> cowsay-jenkins\n",
      "> cowsay-secrets\n",
      "> cowsay-sync-test\n",
      "> cvat-dextr-demo\n",
      "> cvat-yolo3-demo\n",
      "> dog-breed\n",
      "> imagemagick\n",
      "> inference\n",
      "> juno7e3b98\n",
      "> litter-assessment-test\n",
      "> myyolov8\n",
      "> plant-classification-sync\n",
      "> plants\n"
     ]
    }
   ],
   "source": [
    "try:\n",
    "    services = client.list_services()\n",
    "    print(\"Services:\")\n",
    "    if services.status_code == 200:\n",
    "        # Print the name of the services on the cluster\n",
    "        for value in services.json():\n",
    "            print(\"> \" + value[\"name\"])\n",
    "        # You also can print the entire output in JSON format\n",
    "        # json_object = json.loads(services.text)\n",
    "        # json_formatted_str = json.dumps(json_object, indent=2)\n",
    "        # print(json_formatted_str)\n",
    "except Exception as err:\n",
    "    print(\"Failed with: \", err)"
   ]
  },
  {
   "cell_type": "markdown",
   "id": "e41f6c2f-b8f4-4942-84d2-13307727e251",
   "metadata": {
    "papermill": {
     "duration": 0.026099,
     "end_time": "2025-02-26T13:36:20.325560",
     "exception": false,
     "start_time": "2025-02-26T13:36:20.299461",
     "status": "completed"
    },
    "tags": []
   },
   "source": [
    "## 🐄 Execute Cowsay (Synchronous)\n",
    "\n",
    "To interact with the **Cowsay service**, we need to send a message in **JSON format** using the `run_service()` function,  \n",
    "providing the **service name** and the **input message** as parameters. \n",
    "\n",
    "```python\n",
    "    client.run_service(\"service_name\", input=\"input\")\n",
    "```"
   ]
  },
  {
   "cell_type": "code",
   "execution_count": 29,
   "id": "57ce5391-4dbe-4301-b326-1123ee7e2dfd",
   "metadata": {
    "papermill": {
     "duration": 6.111448,
     "end_time": "2025-02-26T13:36:26.463171",
     "exception": false,
     "start_time": "2025-02-26T13:36:20.351723",
     "status": "completed"
    },
    "tags": []
   },
   "outputs": [
    {
     "name": "stdout",
     "output_type": "stream",
     "text": [
      " ____________________________________\n",
      "< {\"message\":\"Hi there. I am a cow\"} >\n",
      " ------------------------------------\n",
      "        \\   ^__^\n",
      "         \\  (oo)\\_______\n",
      "            (__)\\       )\\/\\\n",
      "                ||----w |\n",
      "                ||     ||\n",
      "\n",
      "\n"
     ]
    }
   ],
   "source": [
    "try:\n",
    "    # Note that the INPUT for this service must be JSON\n",
    "    response = client.run_service(serviceName,\n",
    "                                  input='{\"message\":\"Hi there. I am a cow\"}')\n",
    "    print(response.text)\n",
    "except Exception as err:\n",
    "    print(\"Failed with: \", err)\n"
   ]
  },
  {
   "cell_type": "markdown",
   "id": "747cbf45-1388-4c6a-bd4b-999800534a6a",
   "metadata": {},
   "source": [
    "---\n",
    "\n",
    "🔹 We also can specify a **timeout**🕒 to control the execution time and an **output file** in case we want to save the output.💾\n"
   ]
  },
  {
   "cell_type": "code",
   "execution_count": 30,
   "id": "05a46538-28e2-4b0b-b2c7-c0538f79c580",
   "metadata": {
    "tags": []
   },
   "outputs": [
    {
     "name": "stdout",
     "output_type": "stream",
     "text": [
      " _________________________________________\n",
      "/ {\"message\":\"Hi there. You also can find \\\n",
      "\\ me in output->cowsay-output.txt\"}       /\n",
      " -----------------------------------------\n",
      "        \\   ^__^\n",
      "         \\  (oo)\\_______\n",
      "            (__)\\       )\\/\\\n",
      "                ||----w |\n",
      "                ||     ||\n",
      "\n",
      "\n"
     ]
    }
   ],
   "source": [
    "try:\n",
    "    response = client.run_service(serviceName,\n",
    "                                  input='{\"message\":\"Hi there. You also can find me in output->cowsay-output.txt\"}',\n",
    "                                  output=\"output/cowsay-output.txt\",\n",
    "                                  timeout=100)\n",
    "    print(response.text)\n",
    "except Exception as err:\n",
    "    print(\"Failed with: \", err)"
   ]
  },
  {
   "cell_type": "markdown",
   "id": "64a3bc37-eb25-4202-850a-83832e21af0b",
   "metadata": {
    "papermill": {
     "duration": 0.02696,
     "end_time": "2025-02-26T13:36:31.453537",
     "exception": false,
     "start_time": "2025-02-26T13:36:31.426577",
     "status": "completed"
    },
    "tags": []
   },
   "source": [
    "## 🗑️ Delete Services  \n",
    "\n",
    "Finally, to delete the services, we simply call the `remove_service()` function, providing the **service name**.  \n",
    "\n",
    "```python\n",
    "client.remove_service(\"service_name\")\n",
    "```"
   ]
  },
  {
   "cell_type": "code",
   "execution_count": 31,
   "id": "66a9f6c7-5b85-489d-9f96-b800399a16b7",
   "metadata": {
    "papermill": {
     "duration": 9.095983,
     "end_time": "2025-02-26T13:36:40.574985",
     "exception": false,
     "start_time": "2025-02-26T13:36:31.479002",
     "status": "completed"
    },
    "tags": []
   },
   "outputs": [
    {
     "name": "stdout",
     "output_type": "stream",
     "text": [
      "Service deleted\n"
     ]
    }
   ],
   "source": [
    "try:\n",
    "    response = client.remove_service(serviceName)\n",
    "    print(\"Service deleted\")\n",
    "except Exception as err:\n",
    "    print(\"Failed with: \", err)"
   ]
  }
 ],
 "metadata": {
  "kernelspec": {
   "display_name": "Python 3 (ipykernel)",
   "language": "python",
   "name": "python3"
  },
  "language_info": {
   "codemirror_mode": {
    "name": "ipython",
    "version": 3
   },
   "file_extension": ".py",
   "mimetype": "text/x-python",
   "name": "python",
   "nbconvert_exporter": "python",
   "pygments_lexer": "ipython3",
   "version": "3.12.3"
  },
  "papermill": {
   "default_parameters": {},
   "duration": 11.058048,
   "end_time": "2025-02-26T13:36:29.179097",
   "environment_variables": {},
   "exception": null,
   "input_path": "/mnt/home7e3b98/tutorials/oscar-tutorial/basic/01.-cowsay.ipynb",
   "output_path": "/mnt/home7e3b98/tutorials/oscar-tutorial/basic/01.-cowsay.ipynb",
   "parameters": {},
   "start_time": "2025-02-26T13:36:18.121049",
   "version": "2.6.0"
  }
 },
 "nbformat": 4,
 "nbformat_minor": 5
}
