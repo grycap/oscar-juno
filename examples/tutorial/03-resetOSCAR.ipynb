{
 "cells": [
  {
   "cell_type": "markdown",
   "id": "591bab7c-5b10-4582-be80-99969e0874d7",
   "metadata": {
    "papermill": {
     "duration": 0.029386,
     "end_time": "2025-02-26T13:36:30.487861",
     "exception": false,
     "start_time": "2025-02-26T13:36:30.458475",
     "status": "completed"
    },
    "tags": []
   },
   "source": [
    "# 🔄 OSCAR from a Jupyter Notebook: Reset the Tutorial  \n",
    "\n",
    "After completing this tutorial, the final step is to **delete all created services** to clean up the **OSCAR cluster**. 🗑️  \n",
    "\n",
    "🔹 This ensures that no unnecessary services remain running, freeing up resources."
   ]
  },
  {
   "cell_type": "markdown",
   "id": "38fae808-d37f-4757-ae8c-586e57ea25f1",
   "metadata": {
    "papermill": {
     "duration": 0.025054,
     "end_time": "2025-02-26T13:36:30.537761",
     "exception": false,
     "start_time": "2025-02-26T13:36:30.512707",
     "status": "completed"
    },
    "tags": []
   },
   "source": [
    "### 📚 Import librarie"
   ]
  },
  {
   "cell_type": "code",
   "execution_count": 1,
   "id": "29eeac5d-6c52-42d2-b7d9-a0676c2df730",
   "metadata": {
    "papermill": {
     "duration": 0.703459,
     "end_time": "2025-02-26T13:36:31.266797",
     "exception": false,
     "start_time": "2025-02-26T13:36:30.563338",
     "status": "completed"
    },
    "tags": []
   },
   "outputs": [],
   "source": [
    "from oscar_python.client import Client\n",
    "import os"
   ]
  },
  {
   "cell_type": "markdown",
   "id": "a482d177-3bf7-4398-981f-0f94d28fb364",
   "metadata": {
    "papermill": {
     "duration": 0.024156,
     "end_time": "2025-02-26T13:36:31.318011",
     "exception": false,
     "start_time": "2025-02-26T13:36:31.293855",
     "status": "completed"
    },
    "tags": []
   },
   "source": [
    "### 🔑 Create the client with the credentials:"
   ]
  },
  {
   "cell_type": "code",
   "execution_count": 2,
   "id": "9d5c27cc-e2da-405a-ae83-4c3ebfbb9a02",
   "metadata": {
    "papermill": {
     "duration": 0.042652,
     "end_time": "2025-02-26T13:36:31.383688",
     "exception": false,
     "start_time": "2025-02-26T13:36:31.341036",
     "status": "completed"
    },
    "tags": []
   },
   "outputs": [],
   "source": [
    "options_oidc_auth = {'cluster_id': 'cluster-id',\n",
    "                     'endpoint': os.environ[\"OSCAR_ENDPOINT\"],\n",
    "                     'shortname': 'oscar-egi',\n",
    "                     'ssl': 'True'}\n",
    "\n",
    "client = Client(options=options_oidc_auth)"
   ]
  },
  {
   "cell_type": "markdown",
   "id": "69a6cfe1-85bd-416e-b456-6c5e25a99624",
   "metadata": {
    "papermill": {
     "duration": 0.02696,
     "end_time": "2025-02-26T13:36:31.453537",
     "exception": false,
     "start_time": "2025-02-26T13:36:31.426577",
     "status": "completed"
    },
    "tags": []
   },
   "source": [
    "### 🗑️ Delete Services  \n",
    "\n",
    "To delete the services, we simply call the `remove_service()` function, providing the **service name**.  \n",
    "\n",
    "```python\n",
    "client.remove_service(\"service_name\")\n",
    "```"
   ]
  },
  {
   "cell_type": "code",
   "execution_count": 3,
   "id": "543e0d9d-1af3-44ea-9019-74effbecd456",
   "metadata": {
    "papermill": {
     "duration": 9.095983,
     "end_time": "2025-02-26T13:36:40.574985",
     "exception": false,
     "start_time": "2025-02-26T13:36:31.479002",
     "status": "completed"
    },
    "tags": []
   },
   "outputs": [
    {
     "name": "stdout",
     "output_type": "stream",
     "text": [
      "Good job\n"
     ]
    }
   ],
   "source": [
    "try:\n",
    "    response = client.remove_service(\"cowsay-sync-test\")\n",
    "    response = client.remove_service(\"plant-classification-async-test\")\n",
    "\n",
    "    print(\"Good job\")\n",
    "except Exception as err:\n",
    "    print(\"Failed with: \", err)"
   ]
  }
 ],
 "metadata": {
  "kernelspec": {
   "display_name": "Python 3 (ipykernel)",
   "language": "python",
   "name": "python3"
  },
  "language_info": {
   "codemirror_mode": {
    "name": "ipython",
    "version": 3
   },
   "file_extension": ".py",
   "mimetype": "text/x-python",
   "name": "python",
   "nbconvert_exporter": "python",
   "pygments_lexer": "ipython3",
   "version": "3.10.12"
  },
  "papermill": {
   "default_parameters": {},
   "duration": 11.837563,
   "end_time": "2025-02-26T13:36:41.090820",
   "environment_variables": {},
   "exception": null,
   "input_path": "/mnt/home7e3b98/tutorials/oscar-tutorial/basic/04.-resetOSCAR.ipynb",
   "output_path": "/mnt/home7e3b98/tutorials/oscar-tutorial/basic/04.-resetOSCAR.ipynb",
   "parameters": {},
   "start_time": "2025-02-26T13:36:29.253257",
   "version": "2.6.0"
  }
 },
 "nbformat": 4,
 "nbformat_minor": 5
}
